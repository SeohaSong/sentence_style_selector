{
 "cells": [
  {
   "cell_type": "code",
   "execution_count": 734,
   "metadata": {},
   "outputs": [],
   "source": [
    "import tensorflow as tf"
   ]
  },
  {
   "cell_type": "code",
   "execution_count": 735,
   "metadata": {},
   "outputs": [],
   "source": [
    "def lstm(reuse):\n",
    "    with tf.variable_scope('lstm', reuse=reuse):\n",
    "        lstm_cell = tf.nn.rnn_cell.BasicLSTMCell(num_units=4)\n",
    "        output, state = tf.nn.dynamic_rnn(\n",
    "            lstm_cell, a, dtype=tf.float32\n",
    "        )\n",
    "    return output"
   ]
  },
  {
   "cell_type": "code",
   "execution_count": 744,
   "metadata": {},
   "outputs": [
    {
     "data": {
      "text/plain": [
       "[array([[[-0.05676965, -0.08413525,  0.21815503,  0.09690733],\n",
       "         [-0.03833861,  0.20305389,  0.01901004, -0.01894408],\n",
       "         [-0.04260091,  0.3039019 , -0.07497343, -0.12200735],\n",
       "         [ 0.02696859,  0.06431957,  0.1849535 , -0.11508025]]],\n",
       "       dtype=float32),\n",
       " array([[[-0.05676965, -0.08413525,  0.21815503,  0.09690733],\n",
       "         [-0.03833861,  0.20305389,  0.01901004, -0.01894408],\n",
       "         [-0.04260091,  0.3039019 , -0.07497343, -0.12200735],\n",
       "         [ 0.02696859,  0.06431957,  0.1849535 , -0.11508025]]],\n",
       "       dtype=float32)]"
      ]
     },
     "execution_count": 744,
     "metadata": {},
     "output_type": "execute_result"
    }
   ],
   "source": [
    "tf.reset_default_graph()\n",
    "graph = tf.get_default_graph()\n",
    "\n",
    "a = tf.Variable(tf.truncated_normal([1, 4, 4], dtype=tf.float32))\n",
    "\n",
    "output1 = lstm(False)\n",
    "output2 = lstm(True)\n",
    "\n",
    "learn1 = tf.train.AdamOptimizer().minimize(output1)\n",
    "learn2 = tf.train.AdamOptimizer().minimize(output2)\n",
    "\n",
    "initializer = tf.global_variables_initializer()\n",
    "\n",
    "sess = tf.Session(graph=graph)\n",
    "sess.run(initializer)\n",
    "\n",
    "sess.run([output1, output2])"
   ]
  },
  {
   "cell_type": "code",
   "execution_count": 739,
   "metadata": {},
   "outputs": [],
   "source": [
    "#     conv_vars = scope.global_variables()\n",
    "\n",
    "#     print(conv_vars)"
   ]
  },
  {
   "cell_type": "code",
   "execution_count": null,
   "metadata": {},
   "outputs": [],
   "source": []
  }
 ],
 "metadata": {
  "kernelspec": {
   "display_name": "Python 3",
   "language": "python",
   "name": "python3"
  },
  "language_info": {
   "codemirror_mode": {
    "name": "ipython",
    "version": 3
   },
   "file_extension": ".py",
   "mimetype": "text/x-python",
   "name": "python",
   "nbconvert_exporter": "python",
   "pygments_lexer": "ipython3",
   "version": "3.6.4"
  }
 },
 "nbformat": 4,
 "nbformat_minor": 2
}
