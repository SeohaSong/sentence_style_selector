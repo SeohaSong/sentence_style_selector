{
 "cells": [
  {
   "cell_type": "code",
   "execution_count": 83,
   "metadata": {},
   "outputs": [],
   "source": [
    "import pandas as pd\n",
    "import time\n",
    "\n",
    "import tensorflow as tf\n",
    "from gensim.models import Word2Vec\n",
    "\n",
    "\n",
    "def get_sess(batch_size):\n",
    "    tf.reset_default_graph()\n",
    "    graph = tf.get_default_graph()\n",
    "    lt = tf.Variable(\n",
    "        pd.read_pickle('./data/lookup_table'),\n",
    "        dtype=tf.float32\n",
    "    )\n",
    "    sen = tf.truncated_normal([batch_size, 64, 512])\n",
    "    batch = tf.map_fn(lambda word: tf.map_fn(\n",
    "        lambda x: tf.cast(tf.argmin(\n",
    "            tf.reduce_sum(tf.abs((lt-x)), axis=0)\n",
    "        ), dtype=tf.float32), word\n",
    "    ), sen)\n",
    "    init = tf.global_variables_initializer()\n",
    "    sess = tf.Session()\n",
    "    sess.run(init)\n",
    "    return batch, sess, graph\n",
    "\n",
    "\n",
    "def batch2sens(batch):\n",
    "    \n",
    "    i2w = Word2Vec.load('./data/w2v_model').wv.index2word\n",
    "    \n",
    "    def get_sen(l):\n",
    "        ws = [i2w[i] for i in l]\n",
    "        sen = ' '.join(w.split('-')[0] for w in ws)\n",
    "        return sen\n",
    "\n",
    "    batch = batch.astype(int)\n",
    "    se_sen = pd.Series([get_sen(l) for l in batch])\n",
    "    \n",
    "    return se_sen"
   ]
  },
  {
   "cell_type": "code",
   "execution_count": 84,
   "metadata": {},
   "outputs": [
    {
     "name": "stdout",
     "output_type": "stream",
     "text": [
      "10.593078136444092\n"
     ]
    }
   ],
   "source": [
    "batch, sess, graph = get_sess(2)\n",
    "s = time.time()\n",
    "se = batch2sens(sess.run(batch))\n",
    "print(time.time()-s)"
   ]
  },
  {
   "cell_type": "code",
   "execution_count": 85,
   "metadata": {},
   "outputs": [
    {
     "data": {
      "text/plain": [
       "0    을까 어떤 함 큰 게 인데 인데 세상 화 재미 함 함 처음 재미 알 남자 두 함 화...\n",
       "1    함 함 큰 알 재미 평범 알 대사 해 건지 알 함 함 두 어떤 큰 함 처음 재미 함...\n",
       "dtype: object"
      ]
     },
     "execution_count": 85,
     "metadata": {},
     "output_type": "execute_result"
    }
   ],
   "source": [
    "se"
   ]
  },
  {
   "cell_type": "code",
   "execution_count": 106,
   "metadata": {},
   "outputs": [
    {
     "data": {
      "text/plain": [
       "['trainable_variables', 'variables', 'while_context', '']"
      ]
     },
     "execution_count": 106,
     "metadata": {},
     "output_type": "execute_result"
    }
   ],
   "source": [
    "graph.get_all_collection_keys()"
   ]
  },
  {
   "cell_type": "code",
   "execution_count": null,
   "metadata": {},
   "outputs": [],
   "source": []
  },
  {
   "cell_type": "code",
   "execution_count": null,
   "metadata": {},
   "outputs": [],
   "source": []
  },
  {
   "cell_type": "code",
   "execution_count": null,
   "metadata": {},
   "outputs": [],
   "source": []
  },
  {
   "cell_type": "code",
   "execution_count": null,
   "metadata": {},
   "outputs": [],
   "source": []
  },
  {
   "cell_type": "code",
   "execution_count": null,
   "metadata": {},
   "outputs": [],
   "source": []
  },
  {
   "cell_type": "code",
   "execution_count": null,
   "metadata": {},
   "outputs": [],
   "source": []
  }
 ],
 "metadata": {
  "kernelspec": {
   "display_name": "Python 3",
   "language": "python",
   "name": "python3"
  },
  "language_info": {
   "codemirror_mode": {
    "name": "ipython",
    "version": 3
   },
   "file_extension": ".py",
   "mimetype": "text/x-python",
   "name": "python",
   "nbconvert_exporter": "python",
   "pygments_lexer": "ipython3",
   "version": "3.6.4"
  }
 },
 "nbformat": 4,
 "nbformat_minor": 2
}
