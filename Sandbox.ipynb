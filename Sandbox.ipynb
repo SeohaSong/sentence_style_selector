{
 "cells": [
  {
   "cell_type": "code",
   "execution_count": 1,
   "metadata": {},
   "outputs": [
    {
     "name": "stderr",
     "output_type": "stream",
     "text": [
      "/Users/seohasong/anaconda3/lib/python3.6/site-packages/h5py/__init__.py:36: FutureWarning: Conversion of the second argument of issubdtype from `float` to `np.floating` is deprecated. In future, it will be treated as `np.float64 == np.dtype(float).type`.\n",
      "  from ._conv import register_converters as _register_converters\n"
     ]
    }
   ],
   "source": [
    "from pprint import pprint\n",
    "\n",
    "from module_.utils.tf_agent import TF_Agent"
   ]
  },
  {
   "cell_type": "code",
   "execution_count": 2,
   "metadata": {},
   "outputs": [],
   "source": [
    "agent = TF_Agent()\n",
    "agent.set_hyper_parameters(\n",
    "    batch_size=8\n",
    ")\n",
    "agent.init_graph()\n",
    "agent.init_sess()"
   ]
  },
  {
   "cell_type": "code",
   "execution_count": null,
   "metadata": {
    "scrolled": true
   },
   "outputs": [],
   "source": [
    "agent.run_sess()"
   ]
  },
  {
   "cell_type": "code",
   "execution_count": null,
   "metadata": {},
   "outputs": [],
   "source": []
  },
  {
   "cell_type": "code",
   "execution_count": null,
   "metadata": {},
   "outputs": [],
   "source": []
  },
  {
   "cell_type": "code",
   "execution_count": null,
   "metadata": {},
   "outputs": [],
   "source": []
  },
  {
   "cell_type": "code",
   "execution_count": null,
   "metadata": {},
   "outputs": [],
   "source": []
  },
  {
   "cell_type": "code",
   "execution_count": null,
   "metadata": {},
   "outputs": [],
   "source": []
  },
  {
   "cell_type": "code",
   "execution_count": null,
   "metadata": {},
   "outputs": [],
   "source": []
  },
  {
   "cell_type": "code",
   "execution_count": 9,
   "metadata": {},
   "outputs": [
    {
     "name": "stdout",
     "output_type": "stream",
     "text": [
      "100.00%\n",
      "일본 특유 애수 적 감성 이 최대치 로 구현 된 영화 첫사랑 이 란 불변 과거 속 기억 에 고정 되 는 것 이 기 에 다만 기록 으로 남 을 뿐 덕분 에 그것 은 세상 에 물들 지 않 는 순수 함 그 자체 다\n",
      "정재희 저격술 갓네 상귀 반크 키넌 갓네 클라우제비츠 월야\n",
      "{'fake': {'label': (array([1, 0]),\n",
      "                    array([[0.46521  , 0.5347901]], dtype=float32),\n",
      "                    0.5),\n",
      "          'valid': (array([1, 0]),\n",
      "                    array([[0.9947983 , 0.00520167]], dtype=float32),\n",
      "                    1.0)},\n",
      " 'real': {'label': (array([0, 1]),\n",
      "                    array([[0.46017233, 0.5398276 ]], dtype=float32),\n",
      "                    1.0),\n",
      "          'valid': (array([0, 1]),\n",
      "                    array([[0.99479383, 0.00520618]], dtype=float32),\n",
      "                    1.0)}}\n"
     ]
    }
   ],
   "source": [
    "result = agent.check_sen(10)\n",
    "print(result[0])\n",
    "print(result[1])\n",
    "pprint(result[2])"
   ]
  }
 ],
 "metadata": {
  "kernelspec": {
   "display_name": "Python 3",
   "language": "python",
   "name": "python3"
  }
 },
 "nbformat": 4,
 "nbformat_minor": 2
}
