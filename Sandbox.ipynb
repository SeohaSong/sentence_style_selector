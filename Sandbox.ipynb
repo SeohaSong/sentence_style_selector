{
 "cells": [
  {
   "cell_type": "code",
   "execution_count": 3,
   "metadata": {},
   "outputs": [],
   "source": [
    "from pprint import pprint\n",
    "\n",
    "from module_.utils.tf_agent import TF_Agent"
   ]
  },
  {
   "cell_type": "code",
   "execution_count": 4,
   "metadata": {},
   "outputs": [],
   "source": [
    "agent = TF_Agent()\n",
    "agent.set_hyper_parameters(\n",
    "    batch_size=256\n",
    ")\n",
    "agent.init_graph()\n",
    "agent.init_sess()"
   ]
  },
  {
   "cell_type": "code",
   "execution_count": null,
   "metadata": {
    "scrolled": true
   },
   "outputs": [
    {
     "name": "stdout",
     "output_type": "stream",
     "text": [
      " 2.72% | acc-l 0.2656250 | acc-v 0.5000000 | acc-l-s 0.9960938 | acc-v-s 1.0000000 | loss-gen 0.8668308"
     ]
    }
   ],
   "source": [
    "for _ in range(3):\n",
    "    agent.run_sess()"
   ]
  },
  {
   "cell_type": "code",
   "execution_count": 9,
   "metadata": {},
   "outputs": [
    {
     "name": "stdout",
     "output_type": "stream",
     "text": [
      "100.00%\n",
      "('암만 오리지널 씬 이 후일담 형식 으로 있 긴 있 지만 그래도 티 비판 총 집편 이 다 재밌 을 리 가 있 나 난 총 집편 이 진짜 싫 '\n",
      " '드라 이렇게 때우 는 게 뭐 가 극장판',\n",
      " '금금 극한값 가로등 이 쭈우우우욱 필하모니 으로 있 이외 있 지만 글라스노스트 통단 교통경찰 씰 이 금금 재미있 을 덴데 가 있 다 '\n",
      " '전재일 교통경찰 씰 이 서각 메스꺼웠 괜츈한듯 꾸뻑 군더 는 게 만질수록 가 사진학',\n",
      " {'fake': {'label': (array([0, 1]),\n",
      "                     array([[0.9828646 , 0.01713534]], dtype=float32),\n",
      "                     0.0),\n",
      "           'valid': (array([1, 0]),\n",
      "                     array([[2.7313083e-06, 9.9999726e-01]], dtype=float32),\n",
      "                     0.5)},\n",
      "  'real': {'label': (array([1, 0]),\n",
      "                     array([[0.00457131, 0.9954287 ]], dtype=float32),\n",
      "                     0.5),\n",
      "           'valid': (array([0, 1]),\n",
      "                     array([[2.7311103e-06, 9.9999726e-01]], dtype=float32),\n",
      "                     0.5)}})\n"
     ]
    }
   ],
   "source": [
    "pprint(agent.check_sen(777))"
   ]
  },
  {
   "cell_type": "code",
   "execution_count": null,
   "metadata": {},
   "outputs": [],
   "source": [
    "print('\\r1\\r2')"
   ]
  },
  {
   "cell_type": "code",
   "execution_count": null,
   "metadata": {},
   "outputs": [],
   "source": [
    "\n"
   ]
  },
  {
   "cell_type": "code",
   "execution_count": null,
   "metadata": {},
   "outputs": [],
   "source": []
  },
  {
   "cell_type": "code",
   "execution_count": null,
   "metadata": {},
   "outputs": [],
   "source": []
  }
 ],
 "metadata": {
  "kernelspec": {
   "display_name": "Python 3",
   "language": "python",
   "name": "python3"
  },
  "language_info": {
   "codemirror_mode": {
    "name": "ipython",
    "version": 3
   },
   "file_extension": ".py",
   "mimetype": "text/x-python",
   "name": "python",
   "nbconvert_exporter": "python",
   "pygments_lexer": "ipython3",
   "version": "3.6.5"
  }
 },
 "nbformat": 4,
 "nbformat_minor": 2
}
